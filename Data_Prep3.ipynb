{
 "cells": [
  {
   "cell_type": "code",
   "execution_count": 1,
   "metadata": {},
   "outputs": [],
   "source": [
    "import pandas as pd\n",
    "import numpy as np"
   ]
  },
  {
   "cell_type": "code",
   "execution_count": 43,
   "metadata": {},
   "outputs": [
    {
     "data": {
      "text/html": [
       "<div>\n",
       "<style scoped>\n",
       "    .dataframe tbody tr th:only-of-type {\n",
       "        vertical-align: middle;\n",
       "    }\n",
       "\n",
       "    .dataframe tbody tr th {\n",
       "        vertical-align: top;\n",
       "    }\n",
       "\n",
       "    .dataframe thead th {\n",
       "        text-align: right;\n",
       "    }\n",
       "</style>\n",
       "<table border=\"1\" class=\"dataframe\">\n",
       "  <thead>\n",
       "    <tr style=\"text-align: right;\">\n",
       "      <th></th>\n",
       "      <th>num_id</th>\n",
       "      <th>brand</th>\n",
       "      <th>model</th>\n",
       "      <th>isNew</th>\n",
       "      <th>age</th>\n",
       "      <th>scum_mimon</th>\n",
       "      <th>month_payment</th>\n",
       "      <th>payment_duration</th>\n",
       "      <th>car_price</th>\n",
       "      <th>is_male</th>\n",
       "    </tr>\n",
       "  </thead>\n",
       "  <tbody>\n",
       "    <tr>\n",
       "      <th>0</th>\n",
       "      <td>10006776</td>\n",
       "      <td>Mercedes</td>\n",
       "      <td>C220</td>\n",
       "      <td>0</td>\n",
       "      <td>59.0</td>\n",
       "      <td>45000.00</td>\n",
       "      <td>1388.44</td>\n",
       "      <td>17.285587</td>\n",
       "      <td>69000.000000</td>\n",
       "      <td>0</td>\n",
       "    </tr>\n",
       "    <tr>\n",
       "      <th>1</th>\n",
       "      <td>10008526</td>\n",
       "      <td>Mercedes</td>\n",
       "      <td>V220</td>\n",
       "      <td>0</td>\n",
       "      <td>46.0</td>\n",
       "      <td>156000.00</td>\n",
       "      <td>3052.32</td>\n",
       "      <td>34.072443</td>\n",
       "      <td>260000.000000</td>\n",
       "      <td>1</td>\n",
       "    </tr>\n",
       "    <tr>\n",
       "      <th>2</th>\n",
       "      <td>10008996</td>\n",
       "      <td>Mitsubishi</td>\n",
       "      <td>L200</td>\n",
       "      <td>1</td>\n",
       "      <td>37.0</td>\n",
       "      <td>146069.00</td>\n",
       "      <td>3023.54</td>\n",
       "      <td>11.307114</td>\n",
       "      <td>180256.512821</td>\n",
       "      <td>0</td>\n",
       "    </tr>\n",
       "    <tr>\n",
       "      <th>3</th>\n",
       "      <td>10013906</td>\n",
       "      <td>Hyundai</td>\n",
       "      <td>Tucson</td>\n",
       "      <td>1</td>\n",
       "      <td>34.0</td>\n",
       "      <td>113161.52</td>\n",
       "      <td>1874.57</td>\n",
       "      <td>15.274701</td>\n",
       "      <td>141795.017094</td>\n",
       "      <td>1</td>\n",
       "    </tr>\n",
       "    <tr>\n",
       "      <th>4</th>\n",
       "      <td>10021356</td>\n",
       "      <td>Hyundai</td>\n",
       "      <td>I-20</td>\n",
       "      <td>1</td>\n",
       "      <td>29.0</td>\n",
       "      <td>76402.79</td>\n",
       "      <td>1380.31</td>\n",
       "      <td>9.907372</td>\n",
       "      <td>90078.034188</td>\n",
       "      <td>0</td>\n",
       "    </tr>\n",
       "    <tr>\n",
       "      <th>...</th>\n",
       "      <td>...</td>\n",
       "      <td>...</td>\n",
       "      <td>...</td>\n",
       "      <td>...</td>\n",
       "      <td>...</td>\n",
       "      <td>...</td>\n",
       "      <td>...</td>\n",
       "      <td>...</td>\n",
       "      <td>...</td>\n",
       "      <td>...</td>\n",
       "    </tr>\n",
       "    <tr>\n",
       "      <th>11719</th>\n",
       "      <td>99957497</td>\n",
       "      <td>Mitsubishi</td>\n",
       "      <td>Pajero</td>\n",
       "      <td>1</td>\n",
       "      <td>42.0</td>\n",
       "      <td>198290.93</td>\n",
       "      <td>4700.10</td>\n",
       "      <td>14.982144</td>\n",
       "      <td>268708.504274</td>\n",
       "      <td>1</td>\n",
       "    </tr>\n",
       "    <tr>\n",
       "      <th>11720</th>\n",
       "      <td>99958487</td>\n",
       "      <td>Mercedes</td>\n",
       "      <td>C220</td>\n",
       "      <td>1</td>\n",
       "      <td>47.0</td>\n",
       "      <td>127415.00</td>\n",
       "      <td>2349.21</td>\n",
       "      <td>9.571303</td>\n",
       "      <td>149900.000000</td>\n",
       "      <td>0</td>\n",
       "    </tr>\n",
       "    <tr>\n",
       "      <th>11721</th>\n",
       "      <td>99982187</td>\n",
       "      <td>Hyundai</td>\n",
       "      <td>I-20</td>\n",
       "      <td>1</td>\n",
       "      <td>40.0</td>\n",
       "      <td>75493.24</td>\n",
       "      <td>1242.15</td>\n",
       "      <td>15.195723</td>\n",
       "      <td>94368.606838</td>\n",
       "      <td>0</td>\n",
       "    </tr>\n",
       "    <tr>\n",
       "      <th>11722</th>\n",
       "      <td>99992866</td>\n",
       "      <td>Mitsubishi</td>\n",
       "      <td>Lancer</td>\n",
       "      <td>1</td>\n",
       "      <td>45.0</td>\n",
       "      <td>66619.68</td>\n",
       "      <td>819.49</td>\n",
       "      <td>42.830687</td>\n",
       "      <td>101719.000000</td>\n",
       "      <td>1</td>\n",
       "    </tr>\n",
       "    <tr>\n",
       "      <th>11723</th>\n",
       "      <td>99997528</td>\n",
       "      <td>Hyundai</td>\n",
       "      <td>Sonata</td>\n",
       "      <td>1</td>\n",
       "      <td>38.0</td>\n",
       "      <td>112180.10</td>\n",
       "      <td>1644.24</td>\n",
       "      <td>25.808844</td>\n",
       "      <td>154616.034188</td>\n",
       "      <td>0</td>\n",
       "    </tr>\n",
       "  </tbody>\n",
       "</table>\n",
       "<p>11724 rows × 10 columns</p>\n",
       "</div>"
      ],
      "text/plain": [
       "         num_id       brand   model  isNew   age  scum_mimon  month_payment  \\\n",
       "0      10006776    Mercedes    C220      0  59.0    45000.00        1388.44   \n",
       "1      10008526    Mercedes    V220      0  46.0   156000.00        3052.32   \n",
       "2      10008996  Mitsubishi    L200      1  37.0   146069.00        3023.54   \n",
       "3      10013906     Hyundai  Tucson      1  34.0   113161.52        1874.57   \n",
       "4      10021356     Hyundai    I-20      1  29.0    76402.79        1380.31   \n",
       "...         ...         ...     ...    ...   ...         ...            ...   \n",
       "11719  99957497  Mitsubishi  Pajero      1  42.0   198290.93        4700.10   \n",
       "11720  99958487    Mercedes    C220      1  47.0   127415.00        2349.21   \n",
       "11721  99982187     Hyundai    I-20      1  40.0    75493.24        1242.15   \n",
       "11722  99992866  Mitsubishi  Lancer      1  45.0    66619.68         819.49   \n",
       "11723  99997528     Hyundai  Sonata      1  38.0   112180.10        1644.24   \n",
       "\n",
       "       payment_duration      car_price  is_male  \n",
       "0             17.285587   69000.000000        0  \n",
       "1             34.072443  260000.000000        1  \n",
       "2             11.307114  180256.512821        0  \n",
       "3             15.274701  141795.017094        1  \n",
       "4              9.907372   90078.034188        0  \n",
       "...                 ...            ...      ...  \n",
       "11719         14.982144  268708.504274        1  \n",
       "11720          9.571303  149900.000000        0  \n",
       "11721         15.195723   94368.606838        0  \n",
       "11722         42.830687  101719.000000        1  \n",
       "11723         25.808844  154616.034188        0  \n",
       "\n",
       "[11724 rows x 10 columns]"
      ]
     },
     "execution_count": 43,
     "metadata": {},
     "output_type": "execute_result"
    }
   ],
   "source": [
    "cars = pd.read_excel('CARS_English_v3.xlsx', sheet_name=\"Sheet1\", usecols=range(10))\n",
    "cars"
   ]
  },
  {
   "cell_type": "code",
   "execution_count": 44,
   "metadata": {},
   "outputs": [
    {
     "data": {
      "text/plain": [
       "6"
      ]
     },
     "execution_count": 44,
     "metadata": {},
     "output_type": "execute_result"
    }
   ],
   "source": [
    "len(cars[cars['payment_duration'] > 1000])"
   ]
  },
  {
   "cell_type": "code",
   "execution_count": 41,
   "metadata": {},
   "outputs": [],
   "source": [
    "# drop rows where payment duration is bigger than 1000\n",
    "cars = cars.drop(cars[cars['payment_duration'] > 1000].index)"
   ]
  },
  {
   "cell_type": "code",
   "execution_count": 42,
   "metadata": {},
   "outputs": [
    {
     "data": {
      "image/png": "[encoded data removed]",
      "text/plain": [
       "<Figure size 1080x720 with 1 Axes>"
      ]
     },
     "metadata": {
      "needs_background": "light"
     },
     "output_type": "display_data"
    }
   ],
   "source": [
    "# draw a qq plot to check if there is any outlier in the payment duration\n",
    "import matplotlib.pyplot as plt\n",
    "import scipy.stats as stats\n",
    "\n",
    "# draw boxplot\n",
    "plt.figure(figsize=(15, 10))\n",
    "plt.boxplot(cars['payment_duration'])\n",
    "plt.show()\n"
   ]
  },
  {
   "cell_type": "code",
   "execution_count": 35,
   "metadata": {},
   "outputs": [
    {
     "data": {
      "text/plain": [
       "103"
      ]
     },
     "execution_count": 35,
     "metadata": {},
     "output_type": "execute_result"
    }
   ],
   "source": [
    "# check how many rows have payment durartion bigger than 15\n",
    "len(cars[cars['payment_duration'] > (20*12)])\n",
    "\n",
    "#len(cars[cars['payment_duration'] < (1/2*12)])\n"
   ]
  },
  {
   "cell_type": "code",
   "execution_count": 38,
   "metadata": {},
   "outputs": [
    {
     "data": {
      "text/plain": [
       "266"
      ]
     },
     "execution_count": 38,
     "metadata": {},
     "output_type": "execute_result"
    }
   ],
   "source": [
    "# unique brands\n",
    "len(cars['model'].unique())"
   ]
  }
 ],
 "metadata": {
  "interpreter": {
   "hash": "0e84c40a8a0d1b5418bf0777ea6e4e4032d0af3277edd6f736ac57875097fefe"
  },
  "kernelspec": {
   "display_name": "Python 3.7.9 64-bit",
   "language": "python",
   "name": "python3"
  },
  "language_info": {
   "codemirror_mode": {
    "name": "ipython",
    "version": 3
   },
   "file_extension": ".py",
   "mimetype": "text/x-python",
   "name": "python",
   "nbconvert_exporter": "python",
   "pygments_lexer": "ipython3",
   "version": "3.7.9"
  },
  "orig_nbformat": 4
 },
 "nbformat": 4,
 "nbformat_minor": 2
}
